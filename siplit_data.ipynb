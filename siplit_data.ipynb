{
 "cells": [
  {
   "cell_type": "code",
   "execution_count": 19,
   "metadata": {},
   "outputs": [],
   "source": [
    "# The conversational chat format is required to fine-tune gpt-4o-mini and gpt-3.5-turbo. For babbage-002 and davinci-002\n",
    "\n",
    "import json\n",
    "\n",
    "input_file = '/home/nour/translation project/translator/data/ara-eng.txt'  # Replace with your input file name\n",
    "output_file = 'ara2eng.json'  # Name of the new JSON file \n",
    "\n",
    "\n",
    "import random \n",
    "\n",
    "def convert_tsv_to_json(input_file, output_file):\n",
    "    messages = []\n",
    "\n",
    "    with open(input_file, 'r', encoding='utf-8') as f:\n",
    "        for line in f:\n",
    "            if random.random() < 0.99:\n",
    "                continue\n",
    "\n",
    "            conversation = [\n",
    "                {\"role\": \"system\", \"content\": \"You are tasked with translating user messages from English into Arabic. Reply with just the user's message translate.\"}\n",
    "            ]\n",
    "\n",
    "            english, arabic = line.strip().split('\\t')\n",
    "            \n",
    "            conversation.append({\n",
    "                \"role\": \"user\",\n",
    "                \"content\": english\n",
    "            })\n",
    "            \n",
    "            conversation.append({\n",
    "                \"role\": \"assistant\",\n",
    "                \"content\": arabic\n",
    "            })\n",
    "\n",
    "            messages.append({'messages': conversation})\n",
    "    \n",
    "    with open(output_file, 'w', encoding='utf-8') as f:\n",
    "        for message in messages:\n",
    "            f.write(json.dumps(message, ensure_ascii=False))\n",
    "            f.write('\\n')\n",
    "\n",
    "convert_tsv_to_json(input_file, output_file)"
   ]
  },
  {
   "cell_type": "code",
   "execution_count": 3,
   "metadata": {},
   "outputs": [
    {
     "name": "stdout",
     "output_type": "stream",
     "text": [
      "Extracted 2463 lines and saved them to ara2eng.json\n"
     ]
    }
   ],
   "source": [
    "import json\n",
    "import random\n",
    "\n",
    "# Step 1: Read the contents of the text file\n",
    "input_file = '/home/nour/translation project/translator/data/ara-eng.txt'  # Replace with your input file name\n",
    "output_file = 'ara2eng.json'  # Name of the new JSON file\n",
    "\n",
    "with open(input_file, 'r', encoding='utf-8') as file:\n",
    "    data = file.readlines()\n",
    "\n",
    "# Step 2: Extract 10% of the data\n",
    "sample_size = int(len(data) * 0.10)\n",
    "sample_data = random.sample(data, sample_size)\n",
    "\n",
    "# Step 3: Convert the extracted data to a list of dictionaries (optional step, depends on your structure)\n",
    "# Here, we'll just store each line as a simple item in a JSON array.\n",
    "json_data = [{\"line\": line.strip()} for line in sample_data]\n",
    "\n",
    "# Step 4: Write the JSON data to a new file\n",
    "with open(output_file, 'w', encoding='utf-8') as json_file:\n",
    "    json.dump(json_data, json_file, ensure_ascii=False, indent=4)\n",
    "\n",
    "print(f\"Extracted {sample_size} lines and saved them to {output_file}\")\n"
   ]
  },
  {
   "cell_type": "code",
   "execution_count": 2,
   "metadata": {},
   "outputs": [],
   "source": [
    "import random\n",
    "\n",
    "def extract_10_percent(input_file, output_file):\n",
    "    # Open the input file and read all lines\n",
    "    with open(input_file, 'r', encoding='utf-8') as f:\n",
    "        lines = f.readlines()\n",
    "\n",
    "    # Calculate 10% of the lines\n",
    "    sample_size = int(0.1 * len(lines))\n",
    "\n",
    "    # Randomly sample 10% of the lines\n",
    "    sampled_lines = random.sample(lines, sample_size)\n",
    "\n",
    "    # Write the sampled lines to the new output file\n",
    "    with open(output_file, 'w', encoding='utf-8') as f:\n",
    "        f.writelines(sampled_lines)\n",
    "\n",
    "# Example usage\n",
    "input_file = \"/home/nour/translation project/translator/data/ara-eng.txt\"  # Replace with your actual file\n",
    "output_file = \"ara2eng.txt\"  # New file to store 10% of the data\n",
    "extract_10_percent(input_file, output_file)\n"
   ]
  }
 ],
 "metadata": {
  "kernelspec": {
   "display_name": "env",
   "language": "python",
   "name": "python3"
  },
  "language_info": {
   "codemirror_mode": {
    "name": "ipython",
    "version": 3
   },
   "file_extension": ".py",
   "mimetype": "text/x-python",
   "name": "python",
   "nbconvert_exporter": "python",
   "pygments_lexer": "ipython3",
   "version": "3.10.12"
  }
 },
 "nbformat": 4,
 "nbformat_minor": 2
}
