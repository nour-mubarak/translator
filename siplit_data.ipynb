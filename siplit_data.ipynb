{
 "cells": [
  {
   "cell_type": "code",
   "execution_count": 1,
   "metadata": {},
   "outputs": [],
   "source": [
    "import random\n",
    "\n",
    "def extract_10_percent(input_file, output_file):\n",
    "    # Open the input file and read all lines\n",
    "    with open(input_file, 'r', encoding='utf-8') as f:\n",
    "        lines = f.readlines()\n",
    "\n",
    "    # Calculate 10% of the lines\n",
    "    sample_size = int(0.1 * len(lines))\n",
    "\n",
    "    # Randomly sample 10% of the lines\n",
    "    sampled_lines = random.sample(lines, sample_size)\n",
    "\n",
    "    # Write the sampled lines to the new output file\n",
    "    with open(output_file, 'w', encoding='utf-8') as f:\n",
    "        f.writelines(sampled_lines)\n",
    "\n",
    "# Example usage\n",
    "input_file = \"/home/nour/translation project/translator/data/ara-eng.txt\"  # Replace with your actual file\n",
    "output_file = \"ara2eng.txt\"  # New file to store 10% of the data\n",
    "extract_10_percent(input_file, output_file)\n"
   ]
  }
 ],
 "metadata": {
  "kernelspec": {
   "display_name": "env",
   "language": "python",
   "name": "python3"
  },
  "language_info": {
   "codemirror_mode": {
    "name": "ipython",
    "version": 3
   },
   "file_extension": ".py",
   "mimetype": "text/x-python",
   "name": "python",
   "nbconvert_exporter": "python",
   "pygments_lexer": "ipython3",
   "version": "3.10.12"
  }
 },
 "nbformat": 4,
 "nbformat_minor": 2
}
