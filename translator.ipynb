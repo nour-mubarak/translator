{
 "cells": [
  {
   "cell_type": "code",
   "execution_count": 82,
   "metadata": {},
   "outputs": [
    {
     "name": "stdout",
     "output_type": "stream",
     "text": [
      "PyTorch: Using CUDA Device GeForce GTX 1050 Ti:0 with Compute Capability 6.1\n"
     ]
    }
   ],
   "source": [
    "from __future__ import unicode_literals, print_function, division\n",
    "from io import open\n",
    "import unicodedata\n",
    "import string\n",
    "import re\n",
    "import random\n",
    "\n",
    "import torch\n",
    "import torch.nn as nn\n",
    "from torch import optim\n",
    "# https://pytorch.org/docs/stable/nn.html#torch-nn-functional\n",
    "import torch.nn.functional as F\n",
    "\n",
    "%matplotlib inline\n",
    "\n",
    "device = torch.device('cuda' if torch.cuda.is_available() else 'cpu')\n",
    "device_idx = torch.cuda.current_device()\n",
    "device_name = torch.cuda.get_device_name(device_idx)\n",
    "device_cap = torch.cuda.get_device_capability(device_idx)\n",
    "print('PyTorch: Using {} Device {}:{} with Compute Capability {}.{}'\n",
    "      .format(str(device).upper(), device_name, device_idx, device_cap[0], device_cap[1]))"
   ]
  },
  {
   "cell_type": "code",
   "execution_count": 13,
   "metadata": {},
   "outputs": [],
   "source": [
    "SOS_token = 0 # Start of Sentence token\n",
    "EOS_token = 1 # End of Sentence token\n",
    "\n",
    "class Lang:\n",
    "    \n",
    "    def __init__(self, name):\n",
    "        self.name = name\n",
    "        self.word_to_idx = {}\n",
    "        self.word_to_count = {}\n",
    "        self.idx_to_word = {0: 'SOS', 1: 'EOS'}\n",
    "        self.n_words = 2\n",
    "        \n",
    "    def add_word(self, word):\n",
    "        if word not in self.word_to_idx:\n",
    "            self.word_to_idx[word] = self.n_words\n",
    "            self.word_to_count[word] = 1\n",
    "            self.idx_to_word[self.n_words] = word\n",
    "            self.n_words += 1\n",
    "        else:\n",
    "            self.word_to_count[word] += 1\n",
    "        \n",
    "    def add_sentence(self, sentence):\n",
    "        for word in sentence.split(' '):\n",
    "            self.add_word(word)"
   ]
  },
  {
   "cell_type": "code",
   "execution_count": 14,
   "metadata": {},
   "outputs": [],
   "source": [
    "# Turn a Unicode string to plain ASCII, thanks to\n",
    "# http://stackoverflow.com/a/518232/2809427\n",
    "def unicode_to_ascii(s):\n",
    "    return ''.join(\n",
    "        c for c in unicodedata.normalize('NFD', s) \n",
    "        if unicodedata.category(c) != 'Mn'\n",
    "    )\n",
    "\n",
    "# Convert to Lowercase, Trim and Remove non-letter chars\n",
    "def normalize_string(s):\n",
    "    s = unicode_to_ascii(s.lower().strip())\n",
    "    s = re.sub(r\"([.!?])\", r\" \\1\", s)\n",
    "    s = re.sub(r\"[^a-zA-Z.!?]+\", r\" \", s)\n",
    "    return s"
   ]
  },
  {
   "cell_type": "code",
   "execution_count": 15,
   "metadata": {},
   "outputs": [],
   "source": [
    "def read_langs(lang1, lang2, reverse=False):\n",
    "    \n",
    "    print('Reading lines...')\n",
    "    \n",
    "    # Read the file and split into lines\n",
    "    lines = open('data/{}-{}.txt'.format(lang1, lang2), encoding='utf-8') \\\n",
    "            .read().strip().split('\\n')\n",
    "    \n",
    "    # Split every line into pairs and normalize\n",
    "    pairs = [[normalize_string(s) for s in l.split('\\t')] for l in lines]\n",
    "    \n",
    "    # Reverse pairs, make Lang instances\n",
    "    if reverse:\n",
    "        pairs = [list(reversed(p)) for p in pairs]\n",
    "        input_lang = Lang(lang2)\n",
    "        output_lang = Lang(lang1)\n",
    "    else: \n",
    "        input_lang = Lang(lang1)\n",
    "        output_lang = Lang(lang2)\n",
    "        \n",
    "    return input_lang, output_lang, pairs"
   ]
  },
  {
   "cell_type": "code",
   "execution_count": 16,
   "metadata": {},
   "outputs": [],
   "source": [
    "MAX_LENGTH = 10\n",
    "\n",
    "eng_prefixes = (\n",
    "    \"i am \", \"i m \",\n",
    "    \"he is\", \"he s \",\n",
    "    \"she is\", \"she s\",\n",
    "    \"you are\", \"you re \",\n",
    "    \"we are\", \"we re \",\n",
    "    \"they are\", \"they re \"\n",
    ")\n",
    "\n",
    "def filter_pair(p):\n",
    "    return len(p[0].split(' ')) < MAX_LENGTH and \\\n",
    "            len(p[1].split(' ')) < MAX_LENGTH and \\\n",
    "            p[1].startswith(eng_prefixes)\n",
    "\n",
    "def filter_pairs(pairs):\n",
    "    return [pair for pair in pairs if filter_pair(pair)]"
   ]
  },
  {
   "cell_type": "code",
   "execution_count": 12,
   "metadata": {},
   "outputs": [
    {
     "name": "stdout",
     "output_type": "stream",
     "text": [
      "Reading lines...\n",
      "Read 135842 sentence pairs\n",
      "Trimmed to 10853 sentence pairs\n",
      "Counting words...\n",
      "Counted words:\n",
      "fra 4489\n",
      "eng 2925\n",
      "['je ne vais pas manger ce poisson .', 'i m not eating this fish .']\n"
     ]
    }
   ],
   "source": [
    "def prepare_data(lang1, lang2, reverse=False):\n",
    "    \n",
    "    input_lang, output_lang, pairs = read_langs(lang1, lang2, reverse)\n",
    "    print('Read {} sentence pairs'.format(len(pairs)))\n",
    "    \n",
    "    pairs = filter_pairs(pairs)\n",
    "    print('Trimmed to {} sentence pairs'.format(len(pairs)))\n",
    "    \n",
    "    print('Counting words...')\n",
    "    for pair in pairs:\n",
    "        input_lang.add_sentence(pair[0])\n",
    "        output_lang.add_sentence(pair[1])\n",
    "    \n",
    "    print('Counted words:')\n",
    "    print(input_lang.name, input_lang.n_words)\n",
    "    print(output_lang.name, output_lang.n_words)\n",
    "    return input_lang, output_lang, pairs\n",
    "\n",
    "input_lang, output_lang, pairs = prepare_data('eng', 'fra', True)\n",
    "print(random.choice(pairs))"
   ]
  },
  {
   "cell_type": "code",
   "execution_count": 22,
   "metadata": {},
   "outputs": [],
   "source": [
    "\"\"\"\n",
    "Encoder RNN Model\n",
    "\"\"\"\n",
    "class EncoderRNN(nn.Module):\n",
    "    \n",
    "    def __init__(self, input_size, hidden_size):\n",
    "        # https://pytorch.org/docs/stable/nn.html#torch.nn.Module\n",
    "        super(EncoderRNN, self).__init__() # nn.Module is Base class for all NNs\n",
    "        self.hidden_size = hidden_size\n",
    "        \n",
    "        self.embedding = nn.Embedding(input_size, hidden_size)\n",
    "        self.gru = nn.GRU(hidden_size, hidden_size)\n",
    "        \n",
    "    def forward(self, input_seq, hidden):\n",
    "        # https://stackoverflow.com/questions/42479902/how-view-method-works-for-tensor-in-torch\n",
    "        embedded = self.embedding(input_seq).view(1, 1, -1) # view means to reshape a tensor\n",
    "        output = embedded\n",
    "        output, hidden = self.gru(output, hidden)\n",
    "        return output, hidden\n",
    "    \n",
    "    def init_hidden(self):\n",
    "        # https://pytorch.org/docs/stable/torch.html#torch.zeros\n",
    "        return torch.zeros(1, 1, self.hidden_size, device=device) # initial value of hidden"
   ]
  },
  {
   "cell_type": "code",
   "execution_count": 24,
   "metadata": {},
   "outputs": [],
   "source": [
    "\"\"\"\n",
    "Decoder RNN Model\n",
    "\"\"\"\n",
    "class DecoderRNN(nn.Module):\n",
    "    \n",
    "    def __init__(self, hidden_size, output_size):\n",
    "        super(DecoderRNN, self).__init__()\n",
    "        self.hidden_size = hidden_size\n",
    "        \n",
    "        # Layer(input_size, hidden_size)\n",
    "        # here output_size -> encoder output and \n",
    "        # hidden_size -> GRU output and hidden size\n",
    "        self.embedding = nn.Embedding(output_size, hidden_size) \n",
    "        self.gru = nn.GRU(hidden_size, hidden_size)\n",
    "        self.out = nn.Linear(hidden_size, output_size)\n",
    "        self.softmax = nn.LogSoftmax(dim=1)\n",
    "        \n",
    "    def forward(self, input_seq, hidden):\n",
    "        output = self.embedding(input_seq).view(1, 1, -1)\n",
    "        output = F.relu(output)\n",
    "        output, hidden = self.gru(output, hidden)\n",
    "        output = self.softmax(self.out(output[0]))\n",
    "        return output, hidden\n",
    "    \n",
    "    def init_hidden(self):\n",
    "        return torch.zeros(1, 1, self.hidden_size, device=device)"
   ]
  },
  {
   "cell_type": "code",
   "execution_count": 53,
   "metadata": {},
   "outputs": [],
   "source": [
    "\"\"\"\n",
    "Attention Decoder RNN Model\n",
    "\"\"\"\n",
    "class AttnDecoderRNN(nn.Module):\n",
    "    \n",
    "    def __init__(self, hidden_size, output_size, dropout_p=0.1, max_length=MAX_LENGTH):\n",
    "        super(AttnDecoderRNN, self).__init__()\n",
    "        self.hidden_size = hidden_size\n",
    "        self.output_size = output_size\n",
    "        self.dropout_p = dropout_p\n",
    "        self.max_length = max_length\n",
    "        \n",
    "        self.embedding = nn.Embedding(self.output_size, self.hidden_size)\n",
    "        self.attn = nn.Linear(self.hidden_size * 2, self.max_length)\n",
    "        self.attn_combine = nn.Linear(self.hidden_size * 2, self.hidden_size)\n",
    "        self.dropout = nn.Dropout(self.dropout_p)\n",
    "        self.gru = nn.GRU(self.hidden_size, self.hidden_size)\n",
    "        self.out = nn.Linear(self.hidden_size, self.output_size)\n",
    "        \n",
    "    def forward(self, input_seq, hidden, encoder_outputs):\n",
    "        embedded = self.embedding(input_seq).view(1, 1, -1)\n",
    "        embedded = self.dropout(embedded)\n",
    "        \n",
    "        # https://pytorch.org/docs/stable/torch.html#torch.cat (concatenation)\n",
    "        attn_weights = F.softmax(\n",
    "            self.attn(torch.cat((embedded[0], hidden[0]), 1)), dim=1)\n",
    "        \n",
    "        # https://pytorch.org/docs/stable/torch.html#torch.bmm\n",
    "        attn_applied = torch.bmm(attn_weights.unsqueeze(0), \n",
    "                                 encoder_outputs.unsqueeze(0))\n",
    "        \n",
    "        output = torch.cat((embedded[0], attn_applied[0]), 1)\n",
    "        output = self.attn_combine(output).unsqueeze(0)\n",
    "        \n",
    "        output = F.relu(output)\n",
    "        output, hidden = self.gru(output, hidden)\n",
    "        output = F.log_softmax(self.out(output[0]), dim=1)\n",
    "        return output, hidden, attn_weights\n",
    "    \n",
    "    def init_hidden(self):\n",
    "        return torch.zeros(1, 1, self.hidden_size, device=device)"
   ]
  },
  {
   "cell_type": "code",
   "execution_count": 41,
   "metadata": {},
   "outputs": [],
   "source": [
    "def indices_from_sentence(lang, sentence):\n",
    "    return [lang.word_to_idx[word] for word in sentence.split(' ')]\n",
    "\n",
    "def tensor_from_sentence(lang, sentence):\n",
    "    indices = indices_from_sentence(lang, sentence)\n",
    "    indices.append(EOS_token)\n",
    "    return torch.tensor(indices, dtype=torch.long, device=device).view(-1, 1)\n",
    "\n",
    "def tensors_from_pair(pair):\n",
    "    input_tensor = tensor_from_sentence(input_lang, pair[0])\n",
    "    target_tensor = tensor_from_sentence(output_lang, pair[1])\n",
    "    return (input_tensor, target_tensor)"
   ]
  },
  {
   "cell_type": "code",
   "execution_count": 42,
   "metadata": {},
   "outputs": [],
   "source": [
    "teacher_forcing_ratio = 0.5\n",
    "\n",
    "def train(input_tensor, target_tensor, encoder, decoder, encoder_optimizer, \n",
    "          decoder_optimizer, criterion, max_length=MAX_LENGTH):\n",
    "    \n",
    "    encoder_hidden = encoder.init_hidden()\n",
    "    \n",
    "    # https://stackoverflow.com/questions/48001598/why-is-zero-grad-needed-for-optimization\n",
    "    encoder_optimizer.zero_grad()\n",
    "    decoder_optimizer.zero_grad()\n",
    "    \n",
    "    input_length = input_tensor.size(0)\n",
    "    target_length = target_tensor.size(0)\n",
    "    \n",
    "    encoder_outputs = torch.zeros(max_length, \n",
    "                        encoder.hidden_size, device=device)\n",
    "    \n",
    "    loss = 0\n",
    "    \n",
    "    for ei in range(input_length):\n",
    "        encoder_output, encoder_hidden = encoder(input_tensor[ei], encoder_hidden)\n",
    "        encoder_outputs[ei] = encoder_output[0, 0]\n",
    "        \n",
    "    decoder_input = torch.tensor([[SOS_token]], device=device)\n",
    "    decoder_hidden = encoder_hidden\n",
    "    \n",
    "    use_teacher_forcing = True if random.random() < teacher_forcing_ratio else False\n",
    "    \n",
    "    if use_teacher_forcing:\n",
    "        # Teacher forcing: Feed the target as the next input\n",
    "        for di in range(target_length):\n",
    "            decoder_output, decoder_hidden, decoder_attention = decoder(\n",
    "                decoder_input, decoder_hidden, encoder_outputs)\n",
    "            loss += criterion(decoder_output, target_tensor[di])\n",
    "            decoder_input = target_tensor[di] # Teacher forcing\n",
    "    else:\n",
    "        # Without teacher forcing: use its own predictions as the next input\n",
    "        for di in range(target_length):\n",
    "            decoder_output, decoder_hidden, decoder_attention = decoder(\n",
    "                decoder_input, decoder_hidden, encoder_outputs)\n",
    "            # https://pytorch.org/docs/stable/torch.html#torch.topk\n",
    "            topv, topi = decoder_output.topk(1)\n",
    "            decoder_input = topi.squeeze().detach() # detach from history as input\n",
    "            \n",
    "            loss += criterion(decoder_output, target_tensor[di])\n",
    "            if decoder_input.item() == EOS_token:\n",
    "                break\n",
    "                \n",
    "    loss.backward()\n",
    "    \n",
    "    encoder_optimizer.step()\n",
    "    decoder_optimizer.step()\n",
    "    \n",
    "    return loss.item() / target_length"
   ]
  },
  {
   "cell_type": "code",
   "execution_count": 63,
   "metadata": {},
   "outputs": [],
   "source": [
    "import time\n",
    "import math\n",
    "\n",
    "def as_minutes(s):\n",
    "    m = math.floor(s / 60)\n",
    "    s -= m * 60\n",
    "    return '{}m {:.2f}s'.format(m, s)\n",
    "\n",
    "def time_since(since, percent):\n",
    "    now = time.time()\n",
    "    s = now - since\n",
    "    es = s / (percent)\n",
    "    rs = es - s\n",
    "    return 'ETA: {} (~ {})'.format(as_minutes(rs), as_minutes(s))"
   ]
  },
  {
   "cell_type": "code",
   "execution_count": 64,
   "metadata": {},
   "outputs": [],
   "source": [
    "import matplotlib.pyplot as plt\n",
    "plt.switch_backend('agg')\n",
    "import matplotlib.ticker as ticker\n",
    "import numpy as np\n",
    "\n",
    "def show_plot(points):\n",
    "    plt.figure()\n",
    "    fig, ax = plt.subplots()\n",
    "    # this location puts ticks at regular intervals\n",
    "    loc = ticker.MultipleLocator(base=0.2)\n",
    "    ax.yaxis.set_major_locator(loc)\n",
    "    plt.plot(points)"
   ]
  },
  {
   "cell_type": "code",
   "execution_count": 65,
   "metadata": {},
   "outputs": [],
   "source": [
    "def train_iterations(encoder, decoder, n_iters, print_every=1000, plot_every=100, learning_rate=0.01):\n",
    "    start = time.time()\n",
    "    \n",
    "    plot_losses = []\n",
    "    print_loss_total = 0 # Reset every print_every\n",
    "    plot_loss_total = 0 # Reset every plot_every \n",
    "    \n",
    "    encoder_optimizer = optim.SGD(encoder.parameters(), lr=learning_rate)\n",
    "    decoder_optimizer = optim.SGD(decoder.parameters(), lr=learning_rate)\n",
    "    \n",
    "    training_pairs = [tensors_from_pair(random.choice(pairs)) for i in range(n_iters)]\n",
    "    \n",
    "    # https://pytorch.org/docs/stable/nn.html#torch.nn.NLLLoss\n",
    "    criterion = nn.NLLLoss()\n",
    "    \n",
    "    for iteration in range(1, n_iters + 1):\n",
    "        training_pair = training_pairs[iteration - 1]\n",
    "        input_tensor = training_pair[0]\n",
    "        target_tensor = training_pair[1]\n",
    "        \n",
    "        loss = train(input_tensor, target_tensor, encoder, decoder, \n",
    "                     encoder_optimizer, decoder_optimizer, criterion)\n",
    "        print_loss_total += loss\n",
    "        plot_loss_total += loss\n",
    "        \n",
    "        if iteration % print_every == 0:\n",
    "            print_loss_avg = print_loss_total / print_every\n",
    "            print_loss_total = 0\n",
    "            print('Epoch {}/{}: {:.2f}% | Loss: {:.2f} | {}'\n",
    "                 .format(iteration, n_iters, (iteration / n_iters) * 100,\n",
    "                  print_loss_avg, time_since(start, iteration / n_iters)))\n",
    "        \n",
    "        if iteration % plot_every == 0:\n",
    "            plot_loss_avg = plot_loss_total / plot_every\n",
    "            plot_losses.append(plot_loss_avg)\n",
    "            plot_loss_total = 0\n",
    "        \n",
    "    show_plot(plot_losses)"
   ]
  },
  {
   "cell_type": "code",
   "execution_count": 77,
   "metadata": {},
   "outputs": [],
   "source": [
    "def evaluate(encoder, decoder, sentence, max_length=MAX_LENGTH):\n",
    "    with torch.no_grad():\n",
    "        input_tensor = tensor_from_sentence(input_lang, sentence)\n",
    "        input_length = input_tensor.size()[0]\n",
    "        \n",
    "        encoder_hidden = encoder.init_hidden()\n",
    "        encoder_outputs = torch.zeros(max_length, encoder.hidden_size, device=device)\n",
    "        \n",
    "        for ei in range(input_length):\n",
    "            encoder_output, encoder_hidden = encoder(input_tensor[ei], \n",
    "                                                    encoder_hidden)\n",
    "            encoder_outputs[ei] += encoder_output[0, 0]\n",
    "            \n",
    "        decoder_input = torch.tensor([[SOS_token]], device=device)\n",
    "        decoder_hidden = encoder_hidden\n",
    "        \n",
    "        decoded_words = []\n",
    "        decoder_attentions = torch.zeros(max_length, max_length)\n",
    "        \n",
    "        for di in range(max_length):\n",
    "            decoder_output, decoder_hidden, decoder_attention = decoder(\n",
    "                decoder_input, decoder_hidden, encoder_outputs)\n",
    "            decoder_attentions[di] = decoder_attention.data\n",
    "            topv, topi = decoder_output.data.topk(1)\n",
    "            if topi.item() == EOS_token:\n",
    "                decoded_words.append('<EOS>')\n",
    "                break\n",
    "            else:\n",
    "                decoded_words.append(output_lang.idx_to_word[topi.item()])\n",
    "            decoder_input = topi.squeeze().detach()\n",
    "            \n",
    "        return decoded_words, decoder_attentions[: di + 1]"
   ]
  },
  {
   "cell_type": "code",
   "execution_count": 78,
   "metadata": {},
   "outputs": [],
   "source": [
    "def evaluate_randomly(encoder, decoder, n=10):\n",
    "    for i in range(n):\n",
    "        pair = random.choice(pairs)\n",
    "        print('Input: {}'.format(pair[0]))\n",
    "        print('Target: {}'.format(pair[1]))\n",
    "        output_words, attentions = evaluate(encoder, decoder, pair[0])\n",
    "        output_sentence = ' '.join(output_words)\n",
    "        print('Predicted: {}\\n'.format(output_sentence))"
   ]
  },
  {
   "cell_type": "code",
   "execution_count": 68,
   "metadata": {},
   "outputs": [
    {
     "name": "stdout",
     "output_type": "stream",
     "text": [
      "Epoch 1000/75000: 1.33% | Loss: 3.46 | ETA: 71m 39.82s (~ 0m 58.11s)\n",
      "Epoch 2000/75000: 2.67% | Loss: 2.92 | ETA: 65m 26.87s (~ 1m 47.59s)\n",
      "Epoch 3000/75000: 4.00% | Loss: 2.73 | ETA: 63m 7.13s (~ 2m 37.80s)\n",
      "Epoch 4000/75000: 5.33% | Loss: 2.65 | ETA: 61m 47.46s (~ 3m 28.87s)\n",
      "Epoch 5000/75000: 6.67% | Loss: 2.52 | ETA: 60m 52.23s (~ 4m 20.87s)\n",
      "Epoch 6000/75000: 8.00% | Loss: 2.52 | ETA: 59m 53.82s (~ 5m 12.51s)\n",
      "Epoch 7000/75000: 9.33% | Loss: 2.38 | ETA: 58m 59.12s (~ 6m 4.32s)\n",
      "Epoch 8000/75000: 10.67% | Loss: 2.23 | ETA: 58m 3.56s (~ 6m 55.95s)\n",
      "Epoch 9000/75000: 12.00% | Loss: 2.20 | ETA: 57m 7.33s (~ 7m 47.36s)\n",
      "Epoch 10000/75000: 13.33% | Loss: 2.20 | ETA: 56m 21.82s (~ 8m 40.28s)\n",
      "Epoch 11000/75000: 14.67% | Loss: 2.08 | ETA: 55m 27.14s (~ 9m 31.85s)\n",
      "Epoch 12000/75000: 16.00% | Loss: 2.01 | ETA: 54m 26.81s (~ 10m 22.25s)\n",
      "Epoch 13000/75000: 17.33% | Loss: 2.01 | ETA: 53m 34.02s (~ 11m 13.91s)\n",
      "Epoch 14000/75000: 18.67% | Loss: 1.93 | ETA: 52m 40.79s (~ 12m 5.43s)\n",
      "Epoch 15000/75000: 20.00% | Loss: 1.88 | ETA: 51m 52.03s (~ 12m 58.01s)\n",
      "Epoch 16000/75000: 21.33% | Loss: 1.87 | ETA: 51m 1.65s (~ 13m 50.28s)\n",
      "Epoch 17000/75000: 22.67% | Loss: 1.79 | ETA: 50m 12.07s (~ 14m 42.85s)\n",
      "Epoch 18000/75000: 24.00% | Loss: 1.73 | ETA: 49m 23.66s (~ 15m 35.89s)\n",
      "Epoch 19000/75000: 25.33% | Loss: 1.80 | ETA: 48m 35.55s (~ 16m 29.20s)\n",
      "Epoch 20000/75000: 26.67% | Loss: 1.63 | ETA: 47m 46.31s (~ 17m 22.29s)\n",
      "Epoch 21000/75000: 28.00% | Loss: 1.63 | ETA: 46m 55.58s (~ 18m 14.95s)\n",
      "Epoch 22000/75000: 29.33% | Loss: 1.57 | ETA: 46m 5.70s (~ 19m 8.03s)\n",
      "Epoch 23000/75000: 30.67% | Loss: 1.56 | ETA: 45m 17.75s (~ 20m 2.08s)\n",
      "Epoch 24000/75000: 32.00% | Loss: 1.62 | ETA: 44m 27.88s (~ 20m 55.47s)\n",
      "Epoch 25000/75000: 33.33% | Loss: 1.46 | ETA: 43m 39.37s (~ 21m 49.69s)\n",
      "Epoch 26000/75000: 34.67% | Loss: 1.54 | ETA: 42m 45.62s (~ 22m 41.35s)\n",
      "Epoch 27000/75000: 36.00% | Loss: 1.47 | ETA: 41m 52.58s (~ 23m 33.33s)\n",
      "Epoch 28000/75000: 37.33% | Loss: 1.50 | ETA: 40m 58.59s (~ 24m 24.69s)\n",
      "Epoch 29000/75000: 38.67% | Loss: 1.39 | ETA: 40m 6.05s (~ 25m 16.86s)\n",
      "Epoch 30000/75000: 40.00% | Loss: 1.31 | ETA: 39m 14.50s (~ 26m 9.67s)\n",
      "Epoch 31000/75000: 41.33% | Loss: 1.32 | ETA: 38m 22.24s (~ 27m 2.03s)\n",
      "Epoch 32000/75000: 42.67% | Loss: 1.31 | ETA: 37m 30.65s (~ 27m 54.90s)\n",
      "Epoch 33000/75000: 44.00% | Loss: 1.29 | ETA: 36m 40.47s (~ 28m 48.94s)\n",
      "Epoch 34000/75000: 45.33% | Loss: 1.21 | ETA: 35m 48.02s (~ 29m 41.29s)\n",
      "Epoch 35000/75000: 46.67% | Loss: 1.22 | ETA: 34m 55.49s (~ 30m 33.56s)\n",
      "Epoch 36000/75000: 48.00% | Loss: 1.15 | ETA: 34m 2.44s (~ 31m 25.33s)\n",
      "Epoch 37000/75000: 49.33% | Loss: 1.12 | ETA: 33m 9.66s (~ 32m 17.31s)\n",
      "Epoch 38000/75000: 50.67% | Loss: 1.13 | ETA: 32m 16.82s (~ 33m 9.17s)\n",
      "Epoch 39000/75000: 52.00% | Loss: 1.10 | ETA: 31m 25.68s (~ 34m 2.82s)\n",
      "Epoch 40000/75000: 53.33% | Loss: 1.05 | ETA: 30m 34.54s (~ 34m 56.61s)\n",
      "Epoch 41000/75000: 54.67% | Loss: 1.14 | ETA: 29m 41.96s (~ 35m 48.83s)\n",
      "Epoch 42000/75000: 56.00% | Loss: 1.13 | ETA: 28m 49.26s (~ 36m 40.88s)\n",
      "Epoch 43000/75000: 57.33% | Loss: 1.07 | ETA: 27m 56.82s (~ 37m 33.23s)\n",
      "Epoch 44000/75000: 58.67% | Loss: 0.95 | ETA: 27m 4.11s (~ 38m 25.19s)\n",
      "Epoch 45000/75000: 60.00% | Loss: 1.01 | ETA: 26m 11.54s (~ 39m 17.31s)\n",
      "Epoch 46000/75000: 61.33% | Loss: 0.97 | ETA: 25m 19.82s (~ 40m 10.75s)\n",
      "Epoch 47000/75000: 62.67% | Loss: 0.98 | ETA: 24m 28.43s (~ 41m 4.86s)\n",
      "Epoch 48000/75000: 64.00% | Loss: 0.96 | ETA: 23m 37.07s (~ 41m 59.23s)\n",
      "Epoch 49000/75000: 65.33% | Loss: 0.94 | ETA: 22m 45.27s (~ 42m 53.00s)\n",
      "Epoch 50000/75000: 66.67% | Loss: 0.93 | ETA: 21m 53.81s (~ 43m 47.63s)\n",
      "Epoch 51000/75000: 68.00% | Loss: 0.88 | ETA: 21m 1.84s (~ 44m 41.41s)\n",
      "Epoch 52000/75000: 69.33% | Loss: 0.90 | ETA: 20m 10.14s (~ 45m 35.96s)\n",
      "Epoch 53000/75000: 70.67% | Loss: 0.84 | ETA: 19m 17.99s (~ 46m 29.71s)\n",
      "Epoch 54000/75000: 72.00% | Loss: 0.86 | ETA: 18m 25.89s (~ 47m 23.73s)\n",
      "Epoch 55000/75000: 73.33% | Loss: 0.82 | ETA: 17m 33.26s (~ 48m 16.48s)\n",
      "Epoch 56000/75000: 74.67% | Loss: 0.77 | ETA: 16m 41.10s (~ 49m 10.61s)\n",
      "Epoch 57000/75000: 76.00% | Loss: 0.76 | ETA: 15m 48.92s (~ 50m 4.91s)\n",
      "Epoch 58000/75000: 77.33% | Loss: 0.77 | ETA: 14m 56.44s (~ 50m 58.46s)\n",
      "Epoch 59000/75000: 78.67% | Loss: 0.80 | ETA: 14m 4.12s (~ 51m 52.70s)\n",
      "Epoch 60000/75000: 80.00% | Loss: 0.76 | ETA: 13m 11.60s (~ 52m 46.40s)\n",
      "Epoch 61000/75000: 81.33% | Loss: 0.76 | ETA: 12m 19.01s (~ 53m 39.96s)\n",
      "Epoch 62000/75000: 82.67% | Loss: 0.73 | ETA: 11m 26.41s (~ 54m 33.63s)\n",
      "Epoch 63000/75000: 84.00% | Loss: 0.68 | ETA: 10m 34.39s (~ 55m 30.56s)\n",
      "Epoch 64000/75000: 85.33% | Loss: 0.75 | ETA: 9m 41.71s (~ 56m 24.48s)\n",
      "Epoch 65000/75000: 86.67% | Loss: 0.70 | ETA: 8m 48.85s (~ 57m 17.53s)\n",
      "Epoch 66000/75000: 88.00% | Loss: 0.65 | ETA: 7m 56.14s (~ 58m 11.70s)\n",
      "Epoch 67000/75000: 89.33% | Loss: 0.72 | ETA: 7m 3.37s (~ 59m 5.75s)\n",
      "Epoch 68000/75000: 90.67% | Loss: 0.69 | ETA: 6m 10.67s (~ 60m 0.76s)\n",
      "Epoch 69000/75000: 92.00% | Loss: 0.70 | ETA: 5m 18.00s (~ 60m 57.05s)\n",
      "Epoch 70000/75000: 93.33% | Loss: 0.64 | ETA: 4m 25.06s (~ 61m 50.78s)\n",
      "Epoch 71000/75000: 94.67% | Loss: 0.64 | ETA: 3m 32.04s (~ 62m 43.69s)\n",
      "Epoch 72000/75000: 96.00% | Loss: 0.64 | ETA: 2m 39.03s (~ 63m 36.74s)\n",
      "Epoch 73000/75000: 97.33% | Loss: 0.65 | ETA: 1m 46.03s (~ 64m 30.04s)\n",
      "Epoch 74000/75000: 98.67% | Loss: 0.62 | ETA: 0m 53.01s (~ 65m 22.47s)\n",
      "Epoch 75000/75000: 100.00% | Loss: 0.59 | ETA: 0m 0.00s (~ 66m 15.14s)\n"
     ]
    }
   ],
   "source": [
    "hidden_size = 256\n",
    "\n",
    "encoder1 = EncoderRNN(input_lang.n_words, hidden_size).to(device)\n",
    "attn_decoder1 = AttnDecoderRNN(hidden_size, output_lang.n_words, dropout_p=0.1).to(device)\n",
    "\n",
    "train_iterations(encoder1, attn_decoder1, 75000, print_every=1000)"
   ]
  },
  {
   "cell_type": "code",
   "execution_count": 79,
   "metadata": {},
   "outputs": [
    {
     "name": "stdout",
     "output_type": "stream",
     "text": [
      "Input: ils sont incroyables .\n",
      "Target: they re amazing .\n",
      "Predicted: they re amazing . <EOS>\n",
      "\n",
      "Input: je suis juste un type normal .\n",
      "Target: i m just a normal guy .\n",
      "Predicted: i m just an average guy . <EOS>\n",
      "\n",
      "Input: elle porte un chapeau .\n",
      "Target: she is wearing a hat .\n",
      "Predicted: she is wearing a hat . <EOS>\n",
      "\n",
      "Input: je suis un peu ivre .\n",
      "Target: i am a bit drunk .\n",
      "Predicted: i m a bit drunk . <EOS>\n",
      "\n",
      "Input: nous sommes dans les temps .\n",
      "Target: we re on schedule .\n",
      "Predicted: we re on . <EOS>\n",
      "\n",
      "Input: nous ne rajeunissons pas .\n",
      "Target: we re not getting any younger .\n",
      "Predicted: we re not getting any . <EOS>\n",
      "\n",
      "Input: vous n etes pas la seule femme ici .\n",
      "Target: you re not the only woman here .\n",
      "Predicted: you re not the only woman here . <EOS>\n",
      "\n",
      "Input: il est en retard .\n",
      "Target: he is late .\n",
      "Predicted: he s late . <EOS>\n",
      "\n",
      "Input: je suis surprise que vous ignoriez cela .\n",
      "Target: i m surprised you didn t know that .\n",
      "Predicted: i m surprised you didn t know that that .\n",
      "\n",
      "Input: c est une excellente etudiante .\n",
      "Target: she is an excellent student .\n",
      "Predicted: she is an excellent student . <EOS>\n",
      "\n"
     ]
    }
   ],
   "source": [
    "evaluate_randomly(encoder1, attn_decoder1)"
   ]
  },
  {
   "cell_type": "code",
   "execution_count": 85,
   "metadata": {},
   "outputs": [
    {
     "data": {
      "text/plain": [
       "<matplotlib.image.AxesImage at 0x19903c34fd0>"
      ]
     },
     "execution_count": 85,
     "metadata": {},
     "output_type": "execute_result"
    },
    {
     "data": {
      "image/png": "[encoded data removed]",
      "text/plain": [
       "<Figure size 480x288 with 1 Axes>"
      ]
     },
     "metadata": {},
     "output_type": "display_data"
    }
   ],
   "source": [
    "output_words, attentions = evaluate(encoder1, attn_decoder1, \"je suis trop froid .\")\n",
    "plt.matshow(attentions.numpy())"
   ]
  },
  {
   "cell_type": "code",
   "execution_count": 83,
   "metadata": {},
   "outputs": [
    {
     "name": "stdout",
     "output_type": "stream",
     "text": [
      "input = elle a cinq ans de moins que moi .\n",
      "output = she is six years younger than me . <EOS>\n"
     ]
    },
    {
     "data": {
      "image/png": "[encoded data removed]",
      "text/plain": [
       "<Figure size 432x288 with 2 Axes>"
      ]
     },
     "metadata": {},
     "output_type": "display_data"
    },
    {
     "name": "stdout",
     "output_type": "stream",
     "text": [
      "input = elle est trop petit .\n",
      "output = she s too fat . <EOS>\n"
     ]
    },
    {
     "data": {
      "image/png": "[encoded data removed]",
      "text/plain": [
       "<Figure size 432x288 with 2 Axes>"
      ]
     },
     "metadata": {},
     "output_type": "display_data"
    },
    {
     "name": "stdout",
     "output_type": "stream",
     "text": [
      "input = je ne crains pas de mourir .\n",
      "output = i m not scared of die . <EOS>\n"
     ]
    },
    {
     "data": {
      "image/png": "[encoded data removed]",
      "text/plain": [
       "<Figure size 432x288 with 2 Axes>"
      ]
     },
     "metadata": {},
     "output_type": "display_data"
    },
    {
     "name": "stdout",
     "output_type": "stream",
     "text": [
      "input = c est un jeune directeur plein de talent .\n",
      "output = he s an talented talented . <EOS>\n"
     ]
    },
    {
     "data": {
      "image/png": "[encoded data removed]",
      "text/plain": [
       "<Figure size 432x288 with 2 Axes>"
      ]
     },
     "metadata": {},
     "output_type": "display_data"
    }
   ],
   "source": [
    "def showAttention(input_sentence, output_words, attentions):\n",
    "    # Set up figure with colorbar\n",
    "    fig = plt.figure()\n",
    "    ax = fig.add_subplot(111)\n",
    "    cax = ax.matshow(attentions.numpy(), cmap='bone')\n",
    "    fig.colorbar(cax)\n",
    "\n",
    "    # Set up axes\n",
    "    ax.set_xticklabels([''] + input_sentence.split(' ') +\n",
    "                       ['<EOS>'], rotation=90)\n",
    "    ax.set_yticklabels([''] + output_words)\n",
    "\n",
    "    # Show label at every tick\n",
    "    ax.xaxis.set_major_locator(ticker.MultipleLocator(1))\n",
    "    ax.yaxis.set_major_locator(ticker.MultipleLocator(1))\n",
    "\n",
    "    plt.show()\n",
    "\n",
    "\n",
    "def evaluateAndShowAttention(input_sentence):\n",
    "    output_words, attentions = evaluate(\n",
    "        encoder1, attn_decoder1, input_sentence)\n",
    "    print('input =', input_sentence)\n",
    "    print('output =', ' '.join(output_words))\n",
    "    showAttention(input_sentence, output_words, attentions)\n",
    "\n",
    "\n",
    "evaluateAndShowAttention(\"elle a cinq ans de moins que moi .\")\n",
    "evaluateAndShowAttention(\"elle est trop petit .\")\n",
    "evaluateAndShowAttention(\"je ne crains pas de mourir .\")\n",
    "evaluateAndShowAttention(\"c est un jeune directeur plein de talent .\")"
   ]
  }
 ],
 "metadata": {
  "kernelspec": {
   "display_name": "Python 3",
   "language": "python",
   "name": "python3"
  },
  "language_info": {
   "codemirror_mode": {
    "name": "ipython",
    "version": 3
   },
   "file_extension": ".py",
   "mimetype": "text/x-python",
   "name": "python",
   "nbconvert_exporter": "python",
   "pygments_lexer": "ipython3",
   "version": "3.6.5"
  }
 },
 "nbformat": 4,
 "nbformat_minor": 2
}
